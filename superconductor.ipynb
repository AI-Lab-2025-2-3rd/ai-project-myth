{
  "nbformat": 4,
  "nbformat_minor": 0,
  "metadata": {
    "colab": {
      "provenance": [],
      "authorship_tag": "ABX9TyPkaT6QQH2/NLPAng9YFEev",
      "include_colab_link": true
    },
    "kernelspec": {
      "name": "python3",
      "display_name": "Python 3"
    },
    "language_info": {
      "name": "python"
    }
  },
  "cells": [
    {
      "cell_type": "markdown",
      "metadata": {
        "id": "view-in-github",
        "colab_type": "text"
      },
      "source": [
        "<a href=\"https://colab.research.google.com/github/AI-Lab-2025-2-3rd/ai-project-myth/blob/main/superconductor.ipynb\" target=\"_parent\"><img src=\"https://colab.research.google.com/assets/colab-badge.svg\" alt=\"Open In Colab\"/></a>"
      ]
    },
    {
      "cell_type": "code",
      "execution_count": 1,
      "metadata": {
        "colab": {
          "base_uri": "https://localhost:8080/"
        },
        "id": "1TnljjUVVYF7",
        "outputId": "3122856b-15ae-4c83-9a27-c7bfcb01b3b2"
      },
      "outputs": [
        {
          "output_type": "stream",
          "name": "stdout",
          "text": [
            "(12759, 83)\n",
            "            ID  number_of_elements  mean_atomic_mass  wtd_mean_atomic_mass  \\\n",
            "0  TRAIN_00000                   3           0.42099               0.39479   \n",
            "1  TRAIN_00001                   4           0.34401               0.22868   \n",
            "2  TRAIN_00002                   4           0.34437               0.25134   \n",
            "3  TRAIN_00003                   2           0.43715               0.45117   \n",
            "4  TRAIN_00004                   4           0.18946               0.19625   \n",
            "\n",
            "   gmean_atomic_mass  wtd_gmean_atomic_mass  entropy_atomic_mass  \\\n",
            "0            0.42310                0.40580              0.55107   \n",
            "1            0.26533                0.16498              0.60467   \n",
            "2            0.26510                0.16350              0.60353   \n",
            "3            0.44012                0.46167              0.34778   \n",
            "4            0.16067                0.17351              0.62604   \n",
            "\n",
            "   wtd_entropy_atomic_mass  range_atomic_mass  wtd_range_atomic_mass  ...  \\\n",
            "0                  0.41532            0.10631                0.20542  ...   \n",
            "1                  0.65628            0.58338                0.07245  ...   \n",
            "2                  0.45025            0.59097                0.18672  ...   \n",
            "3                  0.31135            0.07350                0.19163  ...   \n",
            "4                  0.59592            0.31686                0.09264  ...   \n",
            "\n",
            "   wtd_mean_Valence  gmean_Valence  wtd_gmean_Valence  entropy_Valence  \\\n",
            "0           0.83333        0.83333            0.83333          0.51290   \n",
            "1           0.18003        0.20223            0.17768          0.63910   \n",
            "2           0.21317        0.20223            0.20660          0.63910   \n",
            "3           0.61111        0.41068            0.52669          0.26253   \n",
            "4           0.43353        0.29719            0.37754          0.59098   \n",
            "\n",
            "   wtd_entropy_Valence  range_Valence  wtd_range_Valence  std_Valence  \\\n",
            "0              0.40409        0.00000            0.46583      0.00000   \n",
            "1              0.62743        0.16667            0.11400      0.14434   \n",
            "2              0.50931        0.16667            0.16327      0.14434   \n",
            "3              0.21034        0.66667            0.47672      0.66667   \n",
            "4              0.61331        0.66667            0.18766      0.49301   \n",
            "\n",
            "   wtd_std_Valence  critical_temp  \n",
            "0          0.00000           5.69  \n",
            "1          0.09053          43.60  \n",
            "2          0.14951          39.00  \n",
            "3          0.62854           6.20  \n",
            "4          0.42367          16.30  \n",
            "\n",
            "[5 rows x 83 columns]\n"
          ]
        }
      ],
      "source": [
        "# 1. GitHub에서 CSV 불러오기\n",
        "import pandas as pd\n",
        "\n",
        "# GitHub에 올린 raw 파일 경로 입력\n",
        "url = \"https://raw.githubusercontent.com/AI-Lab-2025-2-3rd/ai-project-myth/refs/heads/main/train.csv\"\n",
        "\n",
        "# 2. Pandas로 읽기\n",
        "df = pd.read_csv(url)\n",
        "\n",
        "# 3. 데이터 확인\n",
        "print(df.shape)\n",
        "print(df.head())\n"
      ]
    }
  ]
}