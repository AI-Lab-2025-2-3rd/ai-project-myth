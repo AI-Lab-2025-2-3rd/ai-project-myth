{
  "nbformat": 4,
  "nbformat_minor": 0,
  "metadata": {
    "colab": {
      "provenance": [],
      "include_colab_link": true
    },
    "kernelspec": {
      "name": "python3",
      "display_name": "Python 3"
    },
    "language_info": {
      "name": "python"
    }
  },
  "cells": [
    {
      "cell_type": "markdown",
      "metadata": {
        "id": "view-in-github",
        "colab_type": "text"
      },
      "source": [
        "<a href=\"https://colab.research.google.com/github/AI-Lab-2025-2-3rd/ai-project-myth/blob/main/superconductor.ipynb\" target=\"_parent\"><img src=\"https://colab.research.google.com/assets/colab-badge.svg\" alt=\"Open In Colab\"/></a>"
      ]
    },
    {
      "cell_type": "code",
      "execution_count": null,
      "metadata": {
        "id": "1TnljjUVVYF7"
      },
      "outputs": [],
      "source": [
        "# 1. GitHub에서 CSV 불러오기\n",
        "import pandas as pd\n",
        "\n",
        "# GitHub에 올린 raw 파일 경로 입력\n",
        "url = \"https://raw.githubusercontent.com/AI-Lab-2025-2-3rd/ai-project-myth/refs/heads/main/train.csv\"\n",
        "\n",
        "# 2. Pandas로 읽기\n",
        "df = pd.read_csv(url)\n",
        "\n",
        "# 3. 데이터 확인\n",
        "print(df.shape)\n",
        "print(df.head())#####\n"
      ]
    }
  ]
}